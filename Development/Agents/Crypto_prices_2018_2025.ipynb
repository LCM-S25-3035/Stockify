{
 "cells": [
  {
   "cell_type": "code",
   "execution_count": null,
   "id": "5f1dcb9f",
   "metadata": {},
   "outputs": [
    {
     "name": "stderr",
     "output_type": "stream",
     "text": [
      "[*********************100%***********************]  1 of 1 completed"
     ]
    },
    {
     "name": "stderr",
     "output_type": "stream",
     "text": [
      "\n",
      "[*********************100%***********************]  1 of 1 completed\n",
      "[*********************100%***********************]  1 of 1 completed\n",
      "[*********************100%***********************]  1 of 1 completed\n",
      "[*********************100%***********************]  1 of 1 completed"
     ]
    },
    {
     "name": "stdout",
     "output_type": "stream",
     "text": [
      "Downloading Bitcoin data...\n",
      "Added 2677 rows for Bitcoin\n",
      "Downloading Ethereum data...\n",
      "Added 2677 rows for Ethereum\n",
      "Downloading Binance Coin data...\n",
      "Added 2677 rows for Binance Coin\n",
      "Downloading Dogecoin data...\n",
      "Added 2677 rows for Dogecoin\n",
      "Downloading XRP data...\n",
      "Added 2677 rows for XRP\n"
     ]
    },
    {
     "name": "stderr",
     "output_type": "stream",
     "text": [
      "\n"
     ]
    },
    {
     "name": "stdout",
     "output_type": "stream",
     "text": [
      "\n",
      "Final DataFrame Shape: (13385, 27)\n",
      "Price        Date   Crypto          Open          High           Low  \\\n",
      "Ticker                           BTC-USD       BTC-USD       BTC-USD   \n",
      "0      2018-01-01  Bitcoin  14112.200195  14112.200195  13154.700195   \n",
      "1      2018-01-02  Bitcoin  13625.000000  15444.599609  13163.599609   \n",
      "2      2018-01-03  Bitcoin  14978.200195  15572.799805  14844.500000   \n",
      "3      2018-01-04  Bitcoin  15270.700195  15739.700195  14522.200195   \n",
      "4      2018-01-05  Bitcoin  15477.200195  17705.199219  15202.799805   \n",
      "\n",
      "Price          Close        Volume    Open    High     Low  ...     Open  \\\n",
      "Ticker       BTC-USD       BTC-USD ETH-USD ETH-USD ETH-USD  ... DOGE-USD   \n",
      "0       13657.200195  1.029120e+10     NaN     NaN     NaN  ...      NaN   \n",
      "1       14982.099609  1.684660e+10     NaN     NaN     NaN  ...      NaN   \n",
      "2       15201.000000  1.687190e+10     NaN     NaN     NaN  ...      NaN   \n",
      "3       15599.200195  2.178320e+10     NaN     NaN     NaN  ...      NaN   \n",
      "4       17429.500000  2.384090e+10     NaN     NaN     NaN  ...      NaN   \n",
      "\n",
      "Price      High      Low    Close   Volume    Open    High     Low   Close  \\\n",
      "Ticker DOGE-USD DOGE-USD DOGE-USD DOGE-USD XRP-USD XRP-USD XRP-USD XRP-USD   \n",
      "0           NaN      NaN      NaN      NaN     NaN     NaN     NaN     NaN   \n",
      "1           NaN      NaN      NaN      NaN     NaN     NaN     NaN     NaN   \n",
      "2           NaN      NaN      NaN      NaN     NaN     NaN     NaN     NaN   \n",
      "3           NaN      NaN      NaN      NaN     NaN     NaN     NaN     NaN   \n",
      "4           NaN      NaN      NaN      NaN     NaN     NaN     NaN     NaN   \n",
      "\n",
      "Price   Volume  \n",
      "Ticker XRP-USD  \n",
      "0          NaN  \n",
      "1          NaN  \n",
      "2          NaN  \n",
      "3          NaN  \n",
      "4          NaN  \n",
      "\n",
      "[5 rows x 27 columns]\n"
     ]
    }
   ],
   "source": [
    "import yfinance as yf\n",
    "import pandas as pd\n",
    "\n",
    "# Top 5 cryptocurrencies\n",
    "cryptos = {\n",
    "    'BTC-USD': 'Bitcoin',\n",
    "    'ETH-USD': 'Ethereum', \n",
    "    'BNB-USD': 'Binance Coin',\n",
    "    'DOGE-USD': 'Dogecoin',\n",
    "    'XRP-USD': 'XRP'\n",
    "}\n",
    "\n",
    "# Initialize an empty list to store DataFrames\n",
    "dfs = []\n",
    "\n",
    "for ticker, name in cryptos.items():\n",
    "    print(f\"Downloading {name} data...\")\n",
    "    data = yf.download(ticker, start=\"2018-01-01\", end=\"2025-05-01\")\n",
    "    data.reset_index(inplace=True)  # Make 'Date' a column\n",
    "    data['Crypto'] = name  # Add crypto name\n",
    "    \n",
    "    data = data[['Date', 'Crypto', 'Open', 'High', 'Low', 'Close', 'Volume']]\n",
    "    dfs.append(data)\n",
    "    print(f\"Added {len(data)} rows for {name}\")\n",
    "\n",
    "# Combine all DataFrames into one\n",
    "final_df = pd.concat(dfs, ignore_index=True)\n",
    "\n",
    "# Save to CSV\n",
    "final_df.to_csv(\"crypto_prices_2018_2025.csv\", index=False)\n",
    "print(f\"\\nFinal DataFrame Shape: {final_df.shape}\")\n",
    "print(final_df.head())  # Show preview"
   ]
  },
  {
   "cell_type": "code",
   "execution_count": 9,
   "id": "796cc7d3",
   "metadata": {},
   "outputs": [
    {
     "name": "stdout",
     "output_type": "stream",
     "text": [
      "(13386, 27)\n",
      "         Date   Crypto              Open              High               Low  \\\n",
      "0         NaN      NaN           BTC-USD           BTC-USD           BTC-USD   \n",
      "1  2018-01-01  Bitcoin  14112.2001953125  14112.2001953125  13154.7001953125   \n",
      "2  2018-01-02  Bitcoin           13625.0   15444.599609375   13163.599609375   \n",
      "3  2018-01-03  Bitcoin  14978.2001953125  15572.7998046875           14844.5   \n",
      "4  2018-01-04  Bitcoin  15270.7001953125  15739.7001953125  14522.2001953125   \n",
      "\n",
      "              Close         Volume   Open.1   High.1    Low.1  ...    Open.3  \\\n",
      "0           BTC-USD        BTC-USD  ETH-USD  ETH-USD  ETH-USD  ...  DOGE-USD   \n",
      "1  13657.2001953125  10291200000.0      NaN      NaN      NaN  ...       NaN   \n",
      "2   14982.099609375  16846600192.0      NaN      NaN      NaN  ...       NaN   \n",
      "3           15201.0  16871900160.0      NaN      NaN      NaN  ...       NaN   \n",
      "4  15599.2001953125  21783199744.0      NaN      NaN      NaN  ...       NaN   \n",
      "\n",
      "     High.3     Low.3   Close.3  Volume.3   Open.4   High.4    Low.4  Close.4  \\\n",
      "0  DOGE-USD  DOGE-USD  DOGE-USD  DOGE-USD  XRP-USD  XRP-USD  XRP-USD  XRP-USD   \n",
      "1       NaN       NaN       NaN       NaN      NaN      NaN      NaN      NaN   \n",
      "2       NaN       NaN       NaN       NaN      NaN      NaN      NaN      NaN   \n",
      "3       NaN       NaN       NaN       NaN      NaN      NaN      NaN      NaN   \n",
      "4       NaN       NaN       NaN       NaN      NaN      NaN      NaN      NaN   \n",
      "\n",
      "  Volume.4  \n",
      "0  XRP-USD  \n",
      "1      NaN  \n",
      "2      NaN  \n",
      "3      NaN  \n",
      "4      NaN  \n",
      "\n",
      "[5 rows x 27 columns]\n"
     ]
    }
   ],
   "source": [
    "import pandas as pd\n",
    "\n",
    "# Load the CSV file into a DataFrame\n",
    "df = pd.read_csv(\"crypto_prices_2018_2025.csv\")\n",
    "\n",
    "# Preview the data\n",
    "print(df.shape)       # Prints the shape of the DataFrame\n",
    "print(df.head())      # Prints the first few rows\n"
   ]
  },
  {
   "cell_type": "code",
   "execution_count": null,
   "id": "f6173995",
   "metadata": {},
   "outputs": [],
   "source": [
    "# csv to be cleaned and  code to be converted into agent"
   ]
  }
 ],
 "metadata": {
  "kernelspec": {
   "display_name": "Python 3",
   "language": "python",
   "name": "python3"
  },
  "language_info": {
   "codemirror_mode": {
    "name": "ipython",
    "version": 3
   },
   "file_extension": ".py",
   "mimetype": "text/x-python",
   "name": "python",
   "nbconvert_exporter": "python",
   "pygments_lexer": "ipython3",
   "version": "3.13.3"
  }
 },
 "nbformat": 4,
 "nbformat_minor": 5
}
