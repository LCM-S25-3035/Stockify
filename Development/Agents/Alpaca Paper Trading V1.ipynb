{
 "cells": [
  {
   "cell_type": "code",
   "execution_count": 1,
   "id": "30f435d4-7f38-414e-9500-0f36c972ca78",
   "metadata": {},
   "outputs": [
    {
     "name": "stdout",
     "output_type": "stream",
     "text": [
      "Collecting alpaca-trade-api\n",
      "  Downloading alpaca_trade_api-3.2.0-py3-none-any.whl.metadata (29 kB)\n",
      "Requirement already satisfied: pandas>=0.18.1 in c:\\users\\sneh_\\appdata\\local\\programs\\python\\python312\\lib\\site-packages (from alpaca-trade-api) (2.2.2)\n",
      "Requirement already satisfied: numpy>=1.11.1 in c:\\users\\sneh_\\appdata\\local\\programs\\python\\python312\\lib\\site-packages (from alpaca-trade-api) (1.26.4)\n",
      "Requirement already satisfied: requests<3,>2 in c:\\users\\sneh_\\appdata\\local\\programs\\python\\python312\\lib\\site-packages (from alpaca-trade-api) (2.32.3)\n",
      "Collecting urllib3<2,>1.24 (from alpaca-trade-api)\n",
      "  Downloading urllib3-1.26.20-py2.py3-none-any.whl.metadata (50 kB)\n",
      "Requirement already satisfied: websocket-client<2,>=0.56.0 in c:\\users\\sneh_\\appdata\\local\\programs\\python\\python312\\lib\\site-packages (from alpaca-trade-api) (1.8.0)\n",
      "Collecting websockets<11,>=9.0 (from alpaca-trade-api)\n",
      "  Downloading websockets-10.4.tar.gz (84 kB)\n",
      "  Installing build dependencies: started\n",
      "  Installing build dependencies: finished with status 'done'\n",
      "  Getting requirements to build wheel: started\n",
      "  Getting requirements to build wheel: finished with status 'done'\n",
      "  Preparing metadata (pyproject.toml): started\n",
      "  Preparing metadata (pyproject.toml): finished with status 'done'\n",
      "Collecting msgpack==1.0.3 (from alpaca-trade-api)\n",
      "  Downloading msgpack-1.0.3.tar.gz (123 kB)\n",
      "  Installing build dependencies: started\n",
      "  Installing build dependencies: finished with status 'done'\n",
      "  Getting requirements to build wheel: started\n",
      "  Getting requirements to build wheel: finished with status 'done'\n",
      "  Preparing metadata (pyproject.toml): started\n",
      "  Preparing metadata (pyproject.toml): finished with status 'done'\n",
      "Requirement already satisfied: aiohttp<4,>=3.8.3 in c:\\users\\sneh_\\appdata\\local\\programs\\python\\python312\\lib\\site-packages (from alpaca-trade-api) (3.12.13)\n",
      "Collecting PyYAML==6.0.1 (from alpaca-trade-api)\n",
      "  Using cached PyYAML-6.0.1-cp312-cp312-win_amd64.whl.metadata (2.1 kB)\n",
      "Collecting deprecation==2.1.0 (from alpaca-trade-api)\n",
      "  Downloading deprecation-2.1.0-py2.py3-none-any.whl.metadata (4.6 kB)\n",
      "Requirement already satisfied: packaging in c:\\users\\sneh_\\appdata\\local\\programs\\python\\python312\\lib\\site-packages (from deprecation==2.1.0->alpaca-trade-api) (24.1)\n",
      "Requirement already satisfied: aiohappyeyeballs>=2.5.0 in c:\\users\\sneh_\\appdata\\local\\programs\\python\\python312\\lib\\site-packages (from aiohttp<4,>=3.8.3->alpaca-trade-api) (2.6.1)\n",
      "Requirement already satisfied: aiosignal>=1.1.2 in c:\\users\\sneh_\\appdata\\local\\programs\\python\\python312\\lib\\site-packages (from aiohttp<4,>=3.8.3->alpaca-trade-api) (1.3.2)\n",
      "Requirement already satisfied: attrs>=17.3.0 in c:\\users\\sneh_\\appdata\\local\\programs\\python\\python312\\lib\\site-packages (from aiohttp<4,>=3.8.3->alpaca-trade-api) (24.2.0)\n",
      "Requirement already satisfied: frozenlist>=1.1.1 in c:\\users\\sneh_\\appdata\\local\\programs\\python\\python312\\lib\\site-packages (from aiohttp<4,>=3.8.3->alpaca-trade-api) (1.7.0)\n",
      "Requirement already satisfied: multidict<7.0,>=4.5 in c:\\users\\sneh_\\appdata\\local\\programs\\python\\python312\\lib\\site-packages (from aiohttp<4,>=3.8.3->alpaca-trade-api) (6.4.4)\n",
      "Requirement already satisfied: propcache>=0.2.0 in c:\\users\\sneh_\\appdata\\local\\programs\\python\\python312\\lib\\site-packages (from aiohttp<4,>=3.8.3->alpaca-trade-api) (0.3.2)\n",
      "Requirement already satisfied: yarl<2.0,>=1.17.0 in c:\\users\\sneh_\\appdata\\local\\programs\\python\\python312\\lib\\site-packages (from aiohttp<4,>=3.8.3->alpaca-trade-api) (1.20.1)\n",
      "Requirement already satisfied: python-dateutil>=2.8.2 in c:\\users\\sneh_\\appdata\\local\\programs\\python\\python312\\lib\\site-packages (from pandas>=0.18.1->alpaca-trade-api) (2.9.0.post0)\n",
      "Requirement already satisfied: pytz>=2020.1 in c:\\users\\sneh_\\appdata\\local\\programs\\python\\python312\\lib\\site-packages (from pandas>=0.18.1->alpaca-trade-api) (2025.2)\n",
      "Requirement already satisfied: tzdata>=2022.7 in c:\\users\\sneh_\\appdata\\local\\programs\\python\\python312\\lib\\site-packages (from pandas>=0.18.1->alpaca-trade-api) (2024.1)\n",
      "Requirement already satisfied: charset-normalizer<4,>=2 in c:\\users\\sneh_\\appdata\\local\\programs\\python\\python312\\lib\\site-packages (from requests<3,>2->alpaca-trade-api) (3.4.0)\n",
      "Requirement already satisfied: idna<4,>=2.5 in c:\\users\\sneh_\\appdata\\local\\programs\\python\\python312\\lib\\site-packages (from requests<3,>2->alpaca-trade-api) (3.10)\n",
      "Requirement already satisfied: certifi>=2017.4.17 in c:\\users\\sneh_\\appdata\\local\\programs\\python\\python312\\lib\\site-packages (from requests<3,>2->alpaca-trade-api) (2024.8.30)\n",
      "Requirement already satisfied: six>=1.5 in c:\\users\\sneh_\\appdata\\local\\programs\\python\\python312\\lib\\site-packages (from python-dateutil>=2.8.2->pandas>=0.18.1->alpaca-trade-api) (1.16.0)\n",
      "Downloading alpaca_trade_api-3.2.0-py3-none-any.whl (34 kB)\n",
      "Downloading deprecation-2.1.0-py2.py3-none-any.whl (11 kB)\n",
      "Using cached PyYAML-6.0.1-cp312-cp312-win_amd64.whl (138 kB)\n",
      "Downloading urllib3-1.26.20-py2.py3-none-any.whl (144 kB)\n",
      "Building wheels for collected packages: msgpack, websockets\n",
      "  Building wheel for msgpack (pyproject.toml): started\n",
      "  Building wheel for msgpack (pyproject.toml): finished with status 'done'\n",
      "  Created wheel for msgpack: filename=msgpack-1.0.3-cp312-cp312-win_amd64.whl size=15816 sha256=3a67c2b67fdf4b8ccb03bad2eadad1f3879e36d37aa75ed3f70c68f3e9954201\n",
      "  Stored in directory: c:\\users\\sneh_\\appdata\\local\\pip\\cache\\wheels\\ba\\bd\\3f\\f043e8f634db9c90ae128d631f43ae9990eef01274a63291f9\n",
      "  Building wheel for websockets (pyproject.toml): started\n",
      "  Building wheel for websockets (pyproject.toml): finished with status 'done'\n",
      "  Created wheel for websockets: filename=websockets-10.4-cp312-cp312-win_amd64.whl size=95113 sha256=1f928a417ee45e8dcf8a326d5667b5930ade7ecf49fda8528f908e7ad90fcdb2\n",
      "  Stored in directory: c:\\users\\sneh_\\appdata\\local\\pip\\cache\\wheels\\80\\cf\\6d\\5d7e4c920cb41925a178b2d2621889c520d648bab487b1d7fd\n",
      "Successfully built msgpack websockets\n",
      "Installing collected packages: msgpack, websockets, urllib3, PyYAML, deprecation, alpaca-trade-api\n",
      "  Attempting uninstall: websockets\n",
      "    Found existing installation: websockets 15.0.1\n",
      "    Uninstalling websockets-15.0.1:\n",
      "      Successfully uninstalled websockets-15.0.1\n",
      "  Attempting uninstall: urllib3\n",
      "    Found existing installation: urllib3 2.2.3\n",
      "    Uninstalling urllib3-2.2.3:\n",
      "      Successfully uninstalled urllib3-2.2.3\n",
      "  Attempting uninstall: PyYAML\n",
      "    Found existing installation: PyYAML 6.0.2\n",
      "    Uninstalling PyYAML-6.0.2:\n",
      "      Successfully uninstalled PyYAML-6.0.2\n",
      "Successfully installed PyYAML-6.0.1 alpaca-trade-api-3.2.0 deprecation-2.1.0 msgpack-1.0.3 urllib3-1.26.20 websockets-10.4\n",
      "Note: you may need to restart the kernel to use updated packages.\n"
     ]
    },
    {
     "name": "stderr",
     "output_type": "stream",
     "text": [
      "WARNING: Ignoring invalid distribution ~otebook (C:\\Users\\sneh_\\AppData\\Local\\Programs\\Python\\Python312\\Lib\\site-packages)\n",
      "WARNING: Ignoring invalid distribution ~otebook (C:\\Users\\sneh_\\AppData\\Local\\Programs\\Python\\Python312\\Lib\\site-packages)\n",
      "  WARNING: Failed to remove contents in a temporary directory 'C:\\Users\\sneh_\\AppData\\Local\\Programs\\Python\\Python312\\Lib\\site-packages\\~-ml'.\n",
      "  You can safely remove it manually.\n",
      "WARNING: Ignoring invalid distribution ~otebook (C:\\Users\\sneh_\\AppData\\Local\\Programs\\Python\\Python312\\Lib\\site-packages)\n",
      "ERROR: pip's dependency resolver does not currently take into account all the packages that are installed. This behaviour is the source of the following dependency conflicts.\n",
      "yfinance 0.2.61 requires websockets>=13.0, but you have websockets 10.4 which is incompatible.\n",
      "\n",
      "[notice] A new release of pip is available: 24.2 -> 25.1.1\n",
      "[notice] To update, run: python.exe -m pip install --upgrade pip\n"
     ]
    }
   ],
   "source": [
    "pip install alpaca-trade-api\n"
   ]
  },
  {
   "cell_type": "code",
   "execution_count": 2,
   "id": "9dd2187f-c639-43ca-8701-cb3f876b207b",
   "metadata": {},
   "outputs": [],
   "source": [
    "from alpaca_trade_api.rest import REST, TimeFrame\n",
    "import time"
   ]
  },
  {
   "cell_type": "code",
   "execution_count": 6,
   "id": "99fa1792-0793-4bd5-9e4a-efe6ad653daa",
   "metadata": {},
   "outputs": [],
   "source": [
    "API_KEY = 'PK5ZC5R1JKB7RGDRPVPR'\n",
    "API_SECRET = 'LscrhAed3acH0tVkZUgIkqRaCdDxi9FQrarXs2of'\n",
    "BASE_URL = 'https://paper-api.alpaca.markets'\n",
    "\n",
    "api = REST(API_KEY, API_SECRET, BASE_URL)"
   ]
  },
  {
   "cell_type": "code",
   "execution_count": 7,
   "id": "c0edd737-5733-49ff-8bd7-5de51e213f70",
   "metadata": {},
   "outputs": [
    {
     "name": "stdout",
     "output_type": "stream",
     "text": [
      "Account status: ACTIVE\n",
      "Cash: 100000\n",
      "Buying Power: 200000\n"
     ]
    }
   ],
   "source": [
    "account = api.get_account()\n",
    "print(\"Account status:\", account.status)\n",
    "print(\"Cash:\", account.cash)\n",
    "print(\"Buying Power:\", account.buying_power)"
   ]
  },
  {
   "cell_type": "code",
   "execution_count": 13,
   "id": "aa8c7810-260a-4a51-9d44-fb75c825b377",
   "metadata": {},
   "outputs": [],
   "source": [
    "# Submit a Market Order with optional stop-loss and take-profit\n",
    "def place_bracket_order(symbol, qty, take_profit_pct=1.05, stop_loss_pct=0.97):\n",
    "    current_price = float(api.get_latest_trade(symbol).price)\n",
    "    take_profit_price = round(current_price * take_profit_pct, 2)\n",
    "    stop_loss_price = round(current_price * stop_loss_pct, 2)\n",
    "\n",
    "    order = api.submit_order(\n",
    "        symbol=symbol,\n",
    "        qty=qty,\n",
    "        side='buy',\n",
    "        type='market',\n",
    "        time_in_force='gtc',\n",
    "        order_class='bracket',\n",
    "        take_profit={'limit_price': take_profit_price},\n",
    "        stop_loss={'stop_price': stop_loss_price}\n",
    "    )\n",
    "    print(f\"Bracket order submitted for {symbol} @ ${current_price}\")\n",
    "    print(f\"TP: ${take_profit_price}, SL: ${stop_loss_price}\")\n",
    "    return order"
   ]
  },
  {
   "cell_type": "code",
   "execution_count": 14,
   "id": "bb505313-eb48-4613-954b-4d2515354762",
   "metadata": {},
   "outputs": [],
   "source": [
    "# Submit a Limit Order\n",
    "def place_limit_order(symbol, qty, limit_price):\n",
    "    order = api.submit_order(\n",
    "        symbol=symbol,\n",
    "        qty=qty,\n",
    "        side='buy',\n",
    "        type='limit',\n",
    "        limit_price=limit_price,\n",
    "        time_in_force='gtc'\n",
    "    )\n",
    "    print(f\"Limit order for {symbol} @ ${limit_price} placed.\")\n",
    "    return order"
   ]
  },
  {
   "cell_type": "code",
   "execution_count": 15,
   "id": "e37b8a3f-6c89-4a7a-828b-f3e2bcb22e07",
   "metadata": {},
   "outputs": [],
   "source": [
    "# Track Portfolio\n",
    "def track_portfolio():\n",
    "    print(\"\\n📊 Current Portfolio:\")\n",
    "    positions = api.list_positions()\n",
    "    for pos in positions:\n",
    "        print(f\"{pos.symbol}: {pos.qty} shares, Market Value: ${pos.market_value}, Unrealized P/L: ${pos.unrealized_pl}\")\n",
    "    \n",
    "    account = api.get_account()\n",
    "    print(f\"Portfolio Value: ${account.portfolio_value}\")\n",
    "    print(f\"Cash: ${account.cash}\\n\")"
   ]
  },
  {
   "cell_type": "code",
   "execution_count": 16,
   "id": "d1bd148e-67c6-42df-8afe-6cd9ebee0b65",
   "metadata": {},
   "outputs": [
    {
     "name": "stdout",
     "output_type": "stream",
     "text": [
      "Bracket order submitted for AAPL @ $209.94\n",
      "TP: $220.44, SL: $203.64\n"
     ]
    },
    {
     "data": {
      "text/plain": [
       "Order({   'asset_class': 'us_equity',\n",
       "    'asset_id': 'b0b6dd9d-8b9b-48a9-ba46-b9d54906e415',\n",
       "    'canceled_at': None,\n",
       "    'client_order_id': '1ed74923-6e33-4203-9cac-95f02a609cee',\n",
       "    'created_at': '2025-07-07T22:40:32.072226606Z',\n",
       "    'expired_at': None,\n",
       "    'expires_at': '2025-10-06T20:00:00Z',\n",
       "    'extended_hours': False,\n",
       "    'failed_at': None,\n",
       "    'filled_at': None,\n",
       "    'filled_avg_price': None,\n",
       "    'filled_qty': '0',\n",
       "    'hwm': None,\n",
       "    'id': 'cdbf7538-1c55-4e6c-a2df-7d88b1fd5fa9',\n",
       "    'legs': [   {   'asset_class': 'us_equity',\n",
       "                    'asset_id': 'b0b6dd9d-8b9b-48a9-ba46-b9d54906e415',\n",
       "                    'canceled_at': None,\n",
       "                    'client_order_id': '2e84b6f8-7d8f-4c05-a306-08945314ca1e',\n",
       "                    'created_at': '2025-07-07T22:40:32.072226606Z',\n",
       "                    'expired_at': None,\n",
       "                    'expires_at': '2025-10-06T20:00:00Z',\n",
       "                    'extended_hours': False,\n",
       "                    'failed_at': None,\n",
       "                    'filled_at': None,\n",
       "                    'filled_avg_price': None,\n",
       "                    'filled_qty': '0',\n",
       "                    'hwm': None,\n",
       "                    'id': '8d1f82eb-50c0-42f2-b8e3-6ad0f026963a',\n",
       "                    'legs': None,\n",
       "                    'limit_price': '220.44',\n",
       "                    'notional': None,\n",
       "                    'order_class': 'bracket',\n",
       "                    'order_type': 'limit',\n",
       "                    'position_intent': 'sell_to_close',\n",
       "                    'qty': '1',\n",
       "                    'replaced_at': None,\n",
       "                    'replaced_by': None,\n",
       "                    'replaces': None,\n",
       "                    'side': 'sell',\n",
       "                    'source': None,\n",
       "                    'status': 'held',\n",
       "                    'stop_price': None,\n",
       "                    'submitted_at': '2025-07-07T22:40:32.072226606Z',\n",
       "                    'subtag': None,\n",
       "                    'symbol': 'AAPL',\n",
       "                    'time_in_force': 'gtc',\n",
       "                    'trail_percent': None,\n",
       "                    'trail_price': None,\n",
       "                    'type': 'limit',\n",
       "                    'updated_at': '2025-07-07T22:40:32.073131276Z'},\n",
       "                {   'asset_class': 'us_equity',\n",
       "                    'asset_id': 'b0b6dd9d-8b9b-48a9-ba46-b9d54906e415',\n",
       "                    'canceled_at': None,\n",
       "                    'client_order_id': '92127e8c-d791-4023-b863-a1ddd02c102b',\n",
       "                    'created_at': '2025-07-07T22:40:32.072226606Z',\n",
       "                    'expired_at': None,\n",
       "                    'expires_at': '2025-10-06T20:00:00Z',\n",
       "                    'extended_hours': False,\n",
       "                    'failed_at': None,\n",
       "                    'filled_at': None,\n",
       "                    'filled_avg_price': None,\n",
       "                    'filled_qty': '0',\n",
       "                    'hwm': None,\n",
       "                    'id': '688b3185-c5bb-496a-af11-f1013f912409',\n",
       "                    'legs': None,\n",
       "                    'limit_price': None,\n",
       "                    'notional': None,\n",
       "                    'order_class': 'bracket',\n",
       "                    'order_type': 'stop',\n",
       "                    'position_intent': 'sell_to_close',\n",
       "                    'qty': '1',\n",
       "                    'replaced_at': None,\n",
       "                    'replaced_by': None,\n",
       "                    'replaces': None,\n",
       "                    'side': 'sell',\n",
       "                    'source': None,\n",
       "                    'status': 'held',\n",
       "                    'stop_price': '203.64',\n",
       "                    'submitted_at': '2025-07-07T22:40:32.072226606Z',\n",
       "                    'subtag': None,\n",
       "                    'symbol': 'AAPL',\n",
       "                    'time_in_force': 'gtc',\n",
       "                    'trail_percent': None,\n",
       "                    'trail_price': None,\n",
       "                    'type': 'stop',\n",
       "                    'updated_at': '2025-07-07T22:40:32.073161046Z'}],\n",
       "    'limit_price': None,\n",
       "    'notional': None,\n",
       "    'order_class': 'bracket',\n",
       "    'order_type': 'market',\n",
       "    'position_intent': 'buy_to_open',\n",
       "    'qty': '1',\n",
       "    'replaced_at': None,\n",
       "    'replaced_by': None,\n",
       "    'replaces': None,\n",
       "    'side': 'buy',\n",
       "    'source': None,\n",
       "    'status': 'accepted',\n",
       "    'stop_price': None,\n",
       "    'submitted_at': '2025-07-07T22:40:32.072226606Z',\n",
       "    'subtag': None,\n",
       "    'symbol': 'AAPL',\n",
       "    'time_in_force': 'gtc',\n",
       "    'trail_percent': None,\n",
       "    'trail_price': None,\n",
       "    'type': 'market',\n",
       "    'updated_at': '2025-07-07T22:40:32.073076786Z'})"
      ]
     },
     "execution_count": 16,
     "metadata": {},
     "output_type": "execute_result"
    }
   ],
   "source": [
    "# Example Usage\n",
    "symbol = 'AAPL'\n",
    "qty = 1\n",
    "place_bracket_order(symbol, qty)"
   ]
  },
  {
   "cell_type": "code",
   "execution_count": 17,
   "id": "40cdaa3a-0f86-4f7d-92e9-3e4b98edbef1",
   "metadata": {},
   "outputs": [
    {
     "name": "stdout",
     "output_type": "stream",
     "text": [
      "\n",
      "📊 Current Portfolio:\n",
      "Portfolio Value: $100000\n",
      "Cash: $100000\n",
      "\n"
     ]
    }
   ],
   "source": [
    "# Optional delay to allow order processing before tracking\n",
    "time.sleep(5)\n",
    "track_portfolio()"
   ]
  }
 ],
 "metadata": {
  "kernelspec": {
   "display_name": "Python 3 (ipykernel)",
   "language": "python",
   "name": "python3"
  },
  "language_info": {
   "codemirror_mode": {
    "name": "ipython",
    "version": 3
   },
   "file_extension": ".py",
   "mimetype": "text/x-python",
   "name": "python",
   "nbconvert_exporter": "python",
   "pygments_lexer": "ipython3",
   "version": "3.12.3"
  }
 },
 "nbformat": 4,
 "nbformat_minor": 5
}
