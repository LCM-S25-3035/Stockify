{
 "cells": [
  {
   "cell_type": "markdown",
   "id": "61e8231d",
   "metadata": {},
   "source": [
    "# 📊 ETF & Macroeconomic Data EDA\n",
    "This notebook performs exploratory data analysis on ETF price data and macroeconomic indicators."
   ]
  },
  {
   "cell_type": "code",
   "execution_count": null,
   "id": "d021be33",
   "metadata": {},
   "outputs": [],
   "source": [
    "\n",
    "import pandas as pd\n",
    "import numpy as np\n",
    "import yfinance as yf\n",
    "import matplotlib.pyplot as plt\n",
    "import seaborn as sns\n",
    "from sklearn.preprocessing import MinMaxScaler\n",
    "import ta\n",
    "\n",
    "plt.style.use(\"seaborn-v0_8-darkgrid\")\n"
   ]
  },
  {
   "cell_type": "markdown",
   "id": "b7258697",
   "metadata": {},
   "source": [
    "## 1. Settings and Parameters"
   ]
  },
  {
   "cell_type": "code",
   "execution_count": null,
   "id": "eb9be92c",
   "metadata": {},
   "outputs": [],
   "source": [
    "\n",
    "etf_tickers = [\"SPY\", \"QQQ\", \"VTI\", \"DIA\", \"IWM\", \"EFA\", \"EEM\", \"VNQ\", \"LQD\", \"BND\"]\n",
    "start_date = \"2018-01-01\"\n",
    "end_date = \"2025-05-20\"\n",
    "macro_file = \"macroeconomic_data_2010_2024.csv\"\n"
   ]
  },
  {
   "cell_type": "markdown",
   "id": "dd219db3",
   "metadata": {},
   "source": [
    "## 2. Download ETF Data"
   ]
  },
  {
   "cell_type": "code",
   "execution_count": null,
   "id": "11aa14e3",
   "metadata": {},
   "outputs": [],
   "source": [
    "\n",
    "print(\"Downloading ETF data...\")\n",
    "data = yf.download(etf_tickers, start=start_date, end=end_date, group_by='ticker', auto_adjust=True)\n",
    "adj_close = pd.DataFrame({ticker: data[ticker]['Close'] for ticker in etf_tickers})\n"
   ]
  },
  {
   "cell_type": "markdown",
   "id": "c1cadd91",
   "metadata": {},
   "source": [
    "## 3. Plot ETF Price Trends"
   ]
  },
  {
   "cell_type": "code",
   "execution_count": null,
   "id": "e0ae0543",
   "metadata": {},
   "outputs": [],
   "source": [
    "\n",
    "adj_close.plot(figsize=(14, 6), title=\"ETF Price Trends (Adj Close)\")\n",
    "plt.xlabel(\"Date\")\n",
    "plt.ylabel(\"Price\")\n",
    "plt.tight_layout()\n",
    "plt.show()\n"
   ]
  },
  {
   "cell_type": "markdown",
   "id": "008d7464",
   "metadata": {},
   "source": [
    "## 4. ETF Correlation Heatmap"
   ]
  },
  {
   "cell_type": "code",
   "execution_count": null,
   "id": "29956843",
   "metadata": {},
   "outputs": [],
   "source": [
    "\n",
    "plt.figure(figsize=(10, 8))\n",
    "corr = adj_close.corr()\n",
    "sns.heatmap(corr, annot=True, cmap=\"coolwarm\", square=True)\n",
    "plt.title(\"Correlation Matrix of ETFs\")\n",
    "plt.tight_layout()\n",
    "plt.show()\n"
   ]
  },
  {
   "cell_type": "markdown",
   "id": "a0904d43",
   "metadata": {},
   "source": [
    "## 5. Regime Classification (Based on SPY)"
   ]
  },
  {
   "cell_type": "code",
   "execution_count": null,
   "id": "513a79fc",
   "metadata": {},
   "outputs": [],
   "source": [
    "\n",
    "spy = adj_close[\"SPY\"]\n",
    "scaler = MinMaxScaler()\n",
    "spy_norm = scaler.fit_transform(spy.values.reshape(-1, 1)).flatten()\n",
    "\n",
    "def classify_regime(spy_norm):\n",
    "    regimes = []\n",
    "    for val in spy_norm:\n",
    "        if val <= 0.33:\n",
    "            regimes.append(\"Bull\")\n",
    "        elif val <= 0.66:\n",
    "            regimes.append(\"Neutral\")\n",
    "        else:\n",
    "            regimes.append(\"Bear\")\n",
    "    return regimes\n",
    "\n",
    "regimes = classify_regime(spy_norm)\n",
    "adj_close[\"Regime\"] = regimes\n"
   ]
  },
  {
   "cell_type": "markdown",
   "id": "ee875520",
   "metadata": {},
   "source": [
    "## 6. Regime Timeline Plot"
   ]
  },
  {
   "cell_type": "code",
   "execution_count": null,
   "id": "1e9b783c",
   "metadata": {},
   "outputs": [],
   "source": [
    "\n",
    "color_map = {\"Bull\": \"green\", \"Neutral\": \"orange\", \"Bear\": \"red\"}\n",
    "colors = [color_map[r] for r in regimes]\n",
    "\n",
    "plt.figure(figsize=(14, 4))\n",
    "plt.scatter(adj_close.index, spy, c=colors, s=10, label=\"SPY Price\")\n",
    "plt.plot(adj_close.index, spy, alpha=0.4)\n",
    "plt.title(\"Market Regime Classification (SPY)\")\n",
    "plt.xlabel(\"Date\")\n",
    "plt.ylabel(\"SPY Price\")\n",
    "plt.tight_layout()\n",
    "plt.show()\n"
   ]
  },
  {
   "cell_type": "markdown",
   "id": "c2da3ff2",
   "metadata": {},
   "source": [
    "## 7. Load and Align Macroeconomic Data"
   ]
  },
  {
   "cell_type": "code",
   "execution_count": null,
   "id": "18bb84b8",
   "metadata": {},
   "outputs": [],
   "source": [
    "\n",
    "print(\"Loading macroeconomic data...\")\n",
    "macro_df = pd.read_csv(macro_file, parse_dates=[\"Date\"])\n",
    "macro_df.set_index(\"Date\", inplace=True)\n",
    "macro_df = macro_df.reindex(adj_close.index, method='ffill')\n",
    "\n",
    "selected_macro_columns = [\n",
    "    \"VIX Market Volatility\",\n",
    "    \"Federal Funds Rate\",\n",
    "    \"10-Year Treasury Yield\",\n",
    "    \"Unemployment Rate\",\n",
    "    \"CPI All Items\",\n",
    "    \"Recession Indicator\"\n",
    "]\n",
    "\n",
    "macro_df = macro_df[selected_macro_columns]\n"
   ]
  },
  {
   "cell_type": "markdown",
   "id": "11fe7753",
   "metadata": {},
   "source": [
    "## 8. Plot Macroeconomic Trends"
   ]
  },
  {
   "cell_type": "code",
   "execution_count": null,
   "id": "1c41faf9",
   "metadata": {},
   "outputs": [],
   "source": [
    "\n",
    "macro_df.plot(subplots=True, figsize=(14, 10), title=\"Macroeconomic Indicators Over Time\")\n",
    "plt.tight_layout()\n",
    "plt.show()\n"
   ]
  },
  {
   "cell_type": "markdown",
   "id": "44edcc5f",
   "metadata": {},
   "source": [
    "## 9. Compute & Visualize Technical Indicators for SPY"
   ]
  },
  {
   "cell_type": "code",
   "execution_count": null,
   "id": "a2b9a206",
   "metadata": {},
   "outputs": [],
   "source": [
    "\n",
    "spy_df = pd.DataFrame({'Close': spy})\n",
    "spy_df['RSI'] = ta.momentum.RSIIndicator(close=spy_df['Close']).rsi()\n",
    "spy_df['MACD_diff'] = ta.trend.MACD(close=spy_df['Close']).macd_diff()\n",
    "spy_df['BB_width'] = ta.volatility.BollingerBands(close=spy_df['Close']).bollinger_wband()\n",
    "spy_df['Stoch_K'] = ta.momentum.StochasticOscillator(\n",
    "    high=spy_df['Close'], low=spy_df['Close'], close=spy_df['Close']).stoch()\n",
    "\n",
    "spy_df[['RSI', 'MACD_diff', 'BB_width', 'Stoch_K']].plot(\n",
    "    subplots=True, figsize=(14, 8), title=\"Technical Indicators for SPY\")\n",
    "plt.tight_layout()\n",
    "plt.show()\n"
   ]
  },
  {
   "cell_type": "markdown",
   "id": "c7d37fd6",
   "metadata": {},
   "source": [
    "## ✅ EDA Complete"
   ]
  }
 ],
 "metadata": {
  "kernelspec": {
   "display_name": "Python 3",
   "name": "python3"
  }
 },
 "nbformat": 4,
 "nbformat_minor": 5
}